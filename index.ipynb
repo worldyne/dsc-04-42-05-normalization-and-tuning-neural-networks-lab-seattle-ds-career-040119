{
 "cells": [
  {
   "cell_type": "markdown",
   "metadata": {},
   "source": [
    "# Normalization and Tuning Neural Networks - Lab"
   ]
  },
  {
   "cell_type": "markdown",
   "metadata": {},
   "source": [
    "## Introduction\n",
    "\n",
    "For this lab on initialization and optimization, let's look at a slightly different type of neural network. This time, we will not perform a classification task as we've done before (Santa vs not santa, bank complaint types), but we'll look at a linear regression problem.\n",
    "\n",
    "We can just as well use deep learning networks for linear regression as for a classification problem. Do note that getting regression to work with neural networks is a hard problem because the output is unbounded ($\\hat y$ can technically range from $-\\infty$ to $+\\infty$, and the models are especially prone to exploding gradients. This issue makes a regression exercise the perfect learning case!\n",
    "\n",
    "## Objectives\n",
    "You will be able to:\n",
    "* Build a nueral network using keras\n",
    "* Normalize your data to assist algorithm convergence\n",
    "* Implement and observe the impact of various initialization techniques"
   ]
  },
  {
   "cell_type": "code",
   "execution_count": 73,
   "metadata": {},
   "outputs": [],
   "source": [
    "import numpy as np\n",
    "import pandas as pd\n",
    "from keras.models import Sequential\n",
    "from keras import initializers\n",
    "from keras import layers\n",
    "from keras.wrappers.scikit_learn import KerasRegressor\n",
    "from sklearn.model_selection import cross_val_score\n",
    "from sklearn.model_selection import KFold\n",
    "from sklearn.preprocessing import StandardScaler\n",
    "from sklearn.pipeline import Pipeline\n",
    "from sklearn import preprocessing\n",
    "from keras import optimizers\n",
    "from sklearn.model_selection import train_test_split"
   ]
  },
  {
   "cell_type": "markdown",
   "metadata": {},
   "source": [
    "## Loading the data"
   ]
  },
  {
   "cell_type": "markdown",
   "metadata": {},
   "source": [
    "The data we'll be working with is data related to facebook posts published during the year of 2014 on the Facebook's page of a renowned cosmetics brand.  It includes 7 features known prior to post publication, and 12 features for evaluating the post impact. What we want to do is make a predictor for the number of \"likes\" for a post, taking into account the 7 features prior to posting.\n",
    "\n",
    "First, let's import the data set and delete any rows with missing data. Afterwards, briefly preview the data."
   ]
  },
  {
   "cell_type": "code",
   "execution_count": 74,
   "metadata": {},
   "outputs": [
    {
     "data": {
      "text/html": [
       "<div>\n",
       "<style scoped>\n",
       "    .dataframe tbody tr th:only-of-type {\n",
       "        vertical-align: middle;\n",
       "    }\n",
       "\n",
       "    .dataframe tbody tr th {\n",
       "        vertical-align: top;\n",
       "    }\n",
       "\n",
       "    .dataframe thead th {\n",
       "        text-align: right;\n",
       "    }\n",
       "</style>\n",
       "<table border=\"1\" class=\"dataframe\">\n",
       "  <thead>\n",
       "    <tr style=\"text-align: right;\">\n",
       "      <th></th>\n",
       "      <th>Page total likes</th>\n",
       "      <th>Type</th>\n",
       "      <th>Category</th>\n",
       "      <th>Post Month</th>\n",
       "      <th>Post Weekday</th>\n",
       "      <th>Post Hour</th>\n",
       "      <th>Paid</th>\n",
       "      <th>Lifetime Post Total Reach</th>\n",
       "      <th>Lifetime Post Total Impressions</th>\n",
       "      <th>Lifetime Engaged Users</th>\n",
       "      <th>Lifetime Post Consumers</th>\n",
       "      <th>Lifetime Post Consumptions</th>\n",
       "      <th>Lifetime Post Impressions by people who have liked your Page</th>\n",
       "      <th>Lifetime Post reach by people who like your Page</th>\n",
       "      <th>Lifetime People who have liked your Page and engaged with your post</th>\n",
       "      <th>comment</th>\n",
       "      <th>like</th>\n",
       "      <th>share</th>\n",
       "      <th>Total Interactions</th>\n",
       "    </tr>\n",
       "  </thead>\n",
       "  <tbody>\n",
       "    <tr>\n",
       "      <th>0</th>\n",
       "      <td>139441</td>\n",
       "      <td>Photo</td>\n",
       "      <td>2</td>\n",
       "      <td>12</td>\n",
       "      <td>4</td>\n",
       "      <td>3</td>\n",
       "      <td>0.0</td>\n",
       "      <td>2752</td>\n",
       "      <td>5091</td>\n",
       "      <td>178</td>\n",
       "      <td>109</td>\n",
       "      <td>159</td>\n",
       "      <td>3078</td>\n",
       "      <td>1640</td>\n",
       "      <td>119</td>\n",
       "      <td>4</td>\n",
       "      <td>79.0</td>\n",
       "      <td>17.0</td>\n",
       "      <td>100</td>\n",
       "    </tr>\n",
       "    <tr>\n",
       "      <th>1</th>\n",
       "      <td>139441</td>\n",
       "      <td>Status</td>\n",
       "      <td>2</td>\n",
       "      <td>12</td>\n",
       "      <td>3</td>\n",
       "      <td>10</td>\n",
       "      <td>0.0</td>\n",
       "      <td>10460</td>\n",
       "      <td>19057</td>\n",
       "      <td>1457</td>\n",
       "      <td>1361</td>\n",
       "      <td>1674</td>\n",
       "      <td>11710</td>\n",
       "      <td>6112</td>\n",
       "      <td>1108</td>\n",
       "      <td>5</td>\n",
       "      <td>130.0</td>\n",
       "      <td>29.0</td>\n",
       "      <td>164</td>\n",
       "    </tr>\n",
       "    <tr>\n",
       "      <th>2</th>\n",
       "      <td>139441</td>\n",
       "      <td>Photo</td>\n",
       "      <td>3</td>\n",
       "      <td>12</td>\n",
       "      <td>3</td>\n",
       "      <td>3</td>\n",
       "      <td>0.0</td>\n",
       "      <td>2413</td>\n",
       "      <td>4373</td>\n",
       "      <td>177</td>\n",
       "      <td>113</td>\n",
       "      <td>154</td>\n",
       "      <td>2812</td>\n",
       "      <td>1503</td>\n",
       "      <td>132</td>\n",
       "      <td>0</td>\n",
       "      <td>66.0</td>\n",
       "      <td>14.0</td>\n",
       "      <td>80</td>\n",
       "    </tr>\n",
       "    <tr>\n",
       "      <th>3</th>\n",
       "      <td>139441</td>\n",
       "      <td>Photo</td>\n",
       "      <td>2</td>\n",
       "      <td>12</td>\n",
       "      <td>2</td>\n",
       "      <td>10</td>\n",
       "      <td>1.0</td>\n",
       "      <td>50128</td>\n",
       "      <td>87991</td>\n",
       "      <td>2211</td>\n",
       "      <td>790</td>\n",
       "      <td>1119</td>\n",
       "      <td>61027</td>\n",
       "      <td>32048</td>\n",
       "      <td>1386</td>\n",
       "      <td>58</td>\n",
       "      <td>1572.0</td>\n",
       "      <td>147.0</td>\n",
       "      <td>1777</td>\n",
       "    </tr>\n",
       "    <tr>\n",
       "      <th>4</th>\n",
       "      <td>139441</td>\n",
       "      <td>Photo</td>\n",
       "      <td>2</td>\n",
       "      <td>12</td>\n",
       "      <td>2</td>\n",
       "      <td>3</td>\n",
       "      <td>0.0</td>\n",
       "      <td>7244</td>\n",
       "      <td>13594</td>\n",
       "      <td>671</td>\n",
       "      <td>410</td>\n",
       "      <td>580</td>\n",
       "      <td>6228</td>\n",
       "      <td>3200</td>\n",
       "      <td>396</td>\n",
       "      <td>19</td>\n",
       "      <td>325.0</td>\n",
       "      <td>49.0</td>\n",
       "      <td>393</td>\n",
       "    </tr>\n",
       "  </tbody>\n",
       "</table>\n",
       "</div>"
      ],
      "text/plain": [
       "   Page total likes    Type  Category  Post Month  Post Weekday  Post Hour  \\\n",
       "0            139441   Photo         2          12             4          3   \n",
       "1            139441  Status         2          12             3         10   \n",
       "2            139441   Photo         3          12             3          3   \n",
       "3            139441   Photo         2          12             2         10   \n",
       "4            139441   Photo         2          12             2          3   \n",
       "\n",
       "   Paid  Lifetime Post Total Reach  Lifetime Post Total Impressions  \\\n",
       "0   0.0                       2752                             5091   \n",
       "1   0.0                      10460                            19057   \n",
       "2   0.0                       2413                             4373   \n",
       "3   1.0                      50128                            87991   \n",
       "4   0.0                       7244                            13594   \n",
       "\n",
       "   Lifetime Engaged Users  Lifetime Post Consumers  \\\n",
       "0                     178                      109   \n",
       "1                    1457                     1361   \n",
       "2                     177                      113   \n",
       "3                    2211                      790   \n",
       "4                     671                      410   \n",
       "\n",
       "   Lifetime Post Consumptions  \\\n",
       "0                         159   \n",
       "1                        1674   \n",
       "2                         154   \n",
       "3                        1119   \n",
       "4                         580   \n",
       "\n",
       "   Lifetime Post Impressions by people who have liked your Page  \\\n",
       "0                                               3078              \n",
       "1                                              11710              \n",
       "2                                               2812              \n",
       "3                                              61027              \n",
       "4                                               6228              \n",
       "\n",
       "   Lifetime Post reach by people who like your Page  \\\n",
       "0                                              1640   \n",
       "1                                              6112   \n",
       "2                                              1503   \n",
       "3                                             32048   \n",
       "4                                              3200   \n",
       "\n",
       "   Lifetime People who have liked your Page and engaged with your post  \\\n",
       "0                                                119                     \n",
       "1                                               1108                     \n",
       "2                                                132                     \n",
       "3                                               1386                     \n",
       "4                                                396                     \n",
       "\n",
       "   comment    like  share  Total Interactions  \n",
       "0        4    79.0   17.0                 100  \n",
       "1        5   130.0   29.0                 164  \n",
       "2        0    66.0   14.0                  80  \n",
       "3       58  1572.0  147.0                1777  \n",
       "4       19   325.0   49.0                 393  "
      ]
     },
     "execution_count": 74,
     "metadata": {},
     "output_type": "execute_result"
    }
   ],
   "source": [
    "#Your code here; load the dataset and drop rows with missing values. Then preview the data.\n",
    "df = pd.read_csv('dataset_Facebook.csv', sep=';')\n",
    "df = df.dropna()\n",
    "df.head()"
   ]
  },
  {
   "cell_type": "markdown",
   "metadata": {},
   "source": [
    "## Initialization"
   ]
  },
  {
   "cell_type": "markdown",
   "metadata": {},
   "source": [
    "## Normalize the Input Data"
   ]
  },
  {
   "cell_type": "markdown",
   "metadata": {},
   "source": [
    "Let's look at our input data. We'll use the 7 first columns as our predictors. We'll do the following two things:\n",
    "- Normalize the continuous variables --> you can do this using `np.mean()` and `np.std()`\n",
    "- Make dummy variables of the categorical variables (you can do this by using `pd.get_dummies`)\n",
    "\n",
    "We only count \"Category\" and \"Type\" as categorical variables. Note that you can argue that \"Post month\", \"Post Weekday\" and \"Post Hour\" can also be considered categories, but we'll just treat them as being continuous for now.\n",
    "\n",
    "You'll then use these to define X and Y. \n",
    "\n",
    "To summarize, X will be:\n",
    "* Page total likes\n",
    "* Post Month\n",
    "* Post Weekday\n",
    "* Post Hour\n",
    "* Paid\n",
    "along with dummy variables for:\n",
    "* Type\n",
    "* Category\n",
    "\n",
    "\n",
    "Be sure to normalize your features by subtracting the mean and dividing by the standard deviation.  \n",
    "\n",
    "Finally, y will simply be the \"like\" column."
   ]
  },
  {
   "cell_type": "code",
   "execution_count": 75,
   "metadata": {},
   "outputs": [
    {
     "name": "stderr",
     "output_type": "stream",
     "text": [
      "/opt/conda/envs/learn-env/lib/python3.6/site-packages/sklearn/preprocessing/data.py:625: DataConversionWarning: Data with input dtype int64, float64 were all converted to float64 by StandardScaler.\n",
      "  return self.partial_fit(X, y)\n",
      "/opt/conda/envs/learn-env/lib/python3.6/site-packages/sklearn/base.py:462: DataConversionWarning: Data with input dtype int64, float64 were all converted to float64 by StandardScaler.\n",
      "  return self.fit(X, **fit_params).transform(X)\n"
     ]
    },
    {
     "data": {
      "text/html": [
       "<div>\n",
       "<style scoped>\n",
       "    .dataframe tbody tr th:only-of-type {\n",
       "        vertical-align: middle;\n",
       "    }\n",
       "\n",
       "    .dataframe tbody tr th {\n",
       "        vertical-align: top;\n",
       "    }\n",
       "\n",
       "    .dataframe thead th {\n",
       "        text-align: right;\n",
       "    }\n",
       "</style>\n",
       "<table border=\"1\" class=\"dataframe\">\n",
       "  <thead>\n",
       "    <tr style=\"text-align: right;\">\n",
       "      <th></th>\n",
       "      <th>Page total likes</th>\n",
       "      <th>Post Month</th>\n",
       "      <th>Post Weekday</th>\n",
       "      <th>Post Hour</th>\n",
       "      <th>Paid</th>\n",
       "      <th>Category_2</th>\n",
       "      <th>Category_3</th>\n",
       "      <th>Type_Photo</th>\n",
       "      <th>Type_Status</th>\n",
       "      <th>Type_Video</th>\n",
       "    </tr>\n",
       "  </thead>\n",
       "  <tbody>\n",
       "    <tr>\n",
       "      <th>0</th>\n",
       "      <td>1.00496</td>\n",
       "      <td>1.506154</td>\n",
       "      <td>-0.065724</td>\n",
       "      <td>-1.105878</td>\n",
       "      <td>-0.62486</td>\n",
       "      <td>1.0</td>\n",
       "      <td>0.0</td>\n",
       "      <td>1.0</td>\n",
       "      <td>0.0</td>\n",
       "      <td>0.0</td>\n",
       "    </tr>\n",
       "    <tr>\n",
       "      <th>1</th>\n",
       "      <td>1.00496</td>\n",
       "      <td>1.506154</td>\n",
       "      <td>-0.558655</td>\n",
       "      <td>0.492065</td>\n",
       "      <td>-0.62486</td>\n",
       "      <td>1.0</td>\n",
       "      <td>0.0</td>\n",
       "      <td>0.0</td>\n",
       "      <td>1.0</td>\n",
       "      <td>0.0</td>\n",
       "    </tr>\n",
       "    <tr>\n",
       "      <th>2</th>\n",
       "      <td>1.00496</td>\n",
       "      <td>1.506154</td>\n",
       "      <td>-0.558655</td>\n",
       "      <td>-1.105878</td>\n",
       "      <td>-0.62486</td>\n",
       "      <td>0.0</td>\n",
       "      <td>1.0</td>\n",
       "      <td>1.0</td>\n",
       "      <td>0.0</td>\n",
       "      <td>0.0</td>\n",
       "    </tr>\n",
       "    <tr>\n",
       "      <th>3</th>\n",
       "      <td>1.00496</td>\n",
       "      <td>1.506154</td>\n",
       "      <td>-1.051585</td>\n",
       "      <td>0.492065</td>\n",
       "      <td>1.60036</td>\n",
       "      <td>1.0</td>\n",
       "      <td>0.0</td>\n",
       "      <td>1.0</td>\n",
       "      <td>0.0</td>\n",
       "      <td>0.0</td>\n",
       "    </tr>\n",
       "    <tr>\n",
       "      <th>4</th>\n",
       "      <td>1.00496</td>\n",
       "      <td>1.506154</td>\n",
       "      <td>-1.051585</td>\n",
       "      <td>-1.105878</td>\n",
       "      <td>-0.62486</td>\n",
       "      <td>1.0</td>\n",
       "      <td>0.0</td>\n",
       "      <td>1.0</td>\n",
       "      <td>0.0</td>\n",
       "      <td>0.0</td>\n",
       "    </tr>\n",
       "  </tbody>\n",
       "</table>\n",
       "</div>"
      ],
      "text/plain": [
       "   Page total likes  Post Month  Post Weekday  Post Hour     Paid  Category_2  \\\n",
       "0           1.00496    1.506154     -0.065724  -1.105878 -0.62486         1.0   \n",
       "1           1.00496    1.506154     -0.558655   0.492065 -0.62486         1.0   \n",
       "2           1.00496    1.506154     -0.558655  -1.105878 -0.62486         0.0   \n",
       "3           1.00496    1.506154     -1.051585   0.492065  1.60036         1.0   \n",
       "4           1.00496    1.506154     -1.051585  -1.105878 -0.62486         1.0   \n",
       "\n",
       "   Category_3  Type_Photo  Type_Status  Type_Video  \n",
       "0         0.0         1.0          0.0         0.0  \n",
       "1         0.0         0.0          1.0         0.0  \n",
       "2         1.0         1.0          0.0         0.0  \n",
       "3         0.0         1.0          0.0         0.0  \n",
       "4         0.0         1.0          0.0         0.0  "
      ]
     },
     "execution_count": 75,
     "metadata": {},
     "output_type": "execute_result"
    }
   ],
   "source": [
    "\n",
    "X = df[['Page total likes', 'Post Month', 'Post Weekday', 'Post Hour', 'Paid', 'Type', 'Category']]\n",
    "Y = df['like']\n",
    "ohe = preprocessing.OneHotEncoder()\n",
    "ss = StandardScaler()\n",
    "\n",
    "enc_col_type = X['Type'].values.reshape(-1, 1)\n",
    "encoder = ohe.fit(enc_col_type)\n",
    "type_ohe = pd.DataFrame(encoder.transform(enc_col_type).toarray(),\n",
    "                   columns=encoder.get_feature_names(['Type']))\n",
    "\n",
    "enc_col_cat = X['Category'].values.reshape(-1, 1)\n",
    "encoder = ohe.fit(enc_col_cat)\n",
    "cat_ohe = pd.DataFrame(encoder.transform(enc_col_cat).toarray(),\n",
    "                      columns=encoder.get_feature_names(['Category']))\n",
    "\n",
    "X_s = pd.DataFrame(ss.fit_transform(X.drop(['Type', 'Category'], axis=1)), \n",
    "                   columns=X.drop(['Type', 'Category'], axis=1).columns)\n",
    "X_full_s = pd.concat([X_s, cat_ohe,type_ohe], axis=1)\n",
    "X_full_s.drop(['Category_1', 'Type_Link'], axis=1, inplace=True)\n",
    "X_full_s.head()"
   ]
  },
  {
   "cell_type": "code",
   "execution_count": 76,
   "metadata": {},
   "outputs": [],
   "source": [
    "X = X_full_s"
   ]
  },
  {
   "cell_type": "code",
   "execution_count": 77,
   "metadata": {},
   "outputs": [
    {
     "data": {
      "text/html": [
       "<div>\n",
       "<style scoped>\n",
       "    .dataframe tbody tr th:only-of-type {\n",
       "        vertical-align: middle;\n",
       "    }\n",
       "\n",
       "    .dataframe tbody tr th {\n",
       "        vertical-align: top;\n",
       "    }\n",
       "\n",
       "    .dataframe thead th {\n",
       "        text-align: right;\n",
       "    }\n",
       "</style>\n",
       "<table border=\"1\" class=\"dataframe\">\n",
       "  <thead>\n",
       "    <tr style=\"text-align: right;\">\n",
       "      <th></th>\n",
       "      <th>Page total likes</th>\n",
       "      <th>Post Month</th>\n",
       "      <th>Post Weekday</th>\n",
       "      <th>Post Hour</th>\n",
       "      <th>Paid</th>\n",
       "      <th>Category_2</th>\n",
       "      <th>Category_3</th>\n",
       "      <th>Type_Photo</th>\n",
       "      <th>Type_Status</th>\n",
       "      <th>Type_Video</th>\n",
       "    </tr>\n",
       "  </thead>\n",
       "  <tbody>\n",
       "    <tr>\n",
       "      <th>0</th>\n",
       "      <td>1.00496</td>\n",
       "      <td>1.506154</td>\n",
       "      <td>-0.065724</td>\n",
       "      <td>-1.105878</td>\n",
       "      <td>-0.62486</td>\n",
       "      <td>1.0</td>\n",
       "      <td>0.0</td>\n",
       "      <td>1.0</td>\n",
       "      <td>0.0</td>\n",
       "      <td>0.0</td>\n",
       "    </tr>\n",
       "    <tr>\n",
       "      <th>1</th>\n",
       "      <td>1.00496</td>\n",
       "      <td>1.506154</td>\n",
       "      <td>-0.558655</td>\n",
       "      <td>0.492065</td>\n",
       "      <td>-0.62486</td>\n",
       "      <td>1.0</td>\n",
       "      <td>0.0</td>\n",
       "      <td>0.0</td>\n",
       "      <td>1.0</td>\n",
       "      <td>0.0</td>\n",
       "    </tr>\n",
       "    <tr>\n",
       "      <th>2</th>\n",
       "      <td>1.00496</td>\n",
       "      <td>1.506154</td>\n",
       "      <td>-0.558655</td>\n",
       "      <td>-1.105878</td>\n",
       "      <td>-0.62486</td>\n",
       "      <td>0.0</td>\n",
       "      <td>1.0</td>\n",
       "      <td>1.0</td>\n",
       "      <td>0.0</td>\n",
       "      <td>0.0</td>\n",
       "    </tr>\n",
       "    <tr>\n",
       "      <th>3</th>\n",
       "      <td>1.00496</td>\n",
       "      <td>1.506154</td>\n",
       "      <td>-1.051585</td>\n",
       "      <td>0.492065</td>\n",
       "      <td>1.60036</td>\n",
       "      <td>1.0</td>\n",
       "      <td>0.0</td>\n",
       "      <td>1.0</td>\n",
       "      <td>0.0</td>\n",
       "      <td>0.0</td>\n",
       "    </tr>\n",
       "    <tr>\n",
       "      <th>4</th>\n",
       "      <td>1.00496</td>\n",
       "      <td>1.506154</td>\n",
       "      <td>-1.051585</td>\n",
       "      <td>-1.105878</td>\n",
       "      <td>-0.62486</td>\n",
       "      <td>1.0</td>\n",
       "      <td>0.0</td>\n",
       "      <td>1.0</td>\n",
       "      <td>0.0</td>\n",
       "      <td>0.0</td>\n",
       "    </tr>\n",
       "  </tbody>\n",
       "</table>\n",
       "</div>"
      ],
      "text/plain": [
       "   Page total likes  Post Month  Post Weekday  Post Hour     Paid  Category_2  \\\n",
       "0           1.00496    1.506154     -0.065724  -1.105878 -0.62486         1.0   \n",
       "1           1.00496    1.506154     -0.558655   0.492065 -0.62486         1.0   \n",
       "2           1.00496    1.506154     -0.558655  -1.105878 -0.62486         0.0   \n",
       "3           1.00496    1.506154     -1.051585   0.492065  1.60036         1.0   \n",
       "4           1.00496    1.506154     -1.051585  -1.105878 -0.62486         1.0   \n",
       "\n",
       "   Category_3  Type_Photo  Type_Status  Type_Video  \n",
       "0         0.0         1.0          0.0         0.0  \n",
       "1         0.0         0.0          1.0         0.0  \n",
       "2         1.0         1.0          0.0         0.0  \n",
       "3         0.0         1.0          0.0         0.0  \n",
       "4         0.0         1.0          0.0         0.0  "
      ]
     },
     "execution_count": 77,
     "metadata": {},
     "output_type": "execute_result"
    }
   ],
   "source": [
    "X.head()"
   ]
  },
  {
   "cell_type": "code",
   "execution_count": null,
   "metadata": {},
   "outputs": [],
   "source": []
  },
  {
   "cell_type": "markdown",
   "metadata": {},
   "source": [
    "Our data is fairly small. Let's just split the data up in a training set and a validation set!  The next three code blocks are all provided for you; have a quick review but not need to make edits!"
   ]
  },
  {
   "cell_type": "code",
   "execution_count": 78,
   "metadata": {},
   "outputs": [],
   "source": [
    "#Code provided; defining training and validation sets\n",
    "data_clean = pd.concat([X, Y], axis=1)\n",
    "np.random.seed(123)\n",
    "X_train, X_val, y_train, y_val = train_test_split(X, Y, test_size=0.2)\n"
   ]
  },
  {
   "cell_type": "code",
   "execution_count": 79,
   "metadata": {},
   "outputs": [],
   "source": [
    "#Code provided; building an initial model\n",
    "np.random.seed(123)\n",
    "model = Sequential()\n",
    "model.add(layers.Dense(8, input_dim=10, activation='relu'))\n",
    "model.add(layers.Dense(1, activation = 'linear'))\n",
    "\n",
    "model.compile(optimizer= \"sgd\" ,loss='mse',metrics=['mse'])\n",
    "hist = model.fit(X_train, y_train, batch_size=32, \n",
    "                 epochs=100, validation_data = (X_val, y_val), verbose=0)"
   ]
  },
  {
   "cell_type": "code",
   "execution_count": 80,
   "metadata": {},
   "outputs": [
    {
     "data": {
      "text/plain": [
       "[nan, nan, nan, nan, nan, nan, nan, nan, nan, nan]"
      ]
     },
     "execution_count": 80,
     "metadata": {},
     "output_type": "execute_result"
    }
   ],
   "source": [
    "#Code provided; previewing the loss through successive epochs\n",
    "hist.history['loss'][:10]"
   ]
  },
  {
   "cell_type": "markdown",
   "metadata": {},
   "source": [
    "Did you see what happend? all the values for training and validation loss are \"nan\". There could be several reasons for that, but as we already mentioned there is likely a vanishing or exploding gradient problem. recall that we normalized out inputs. But how about the outputs? Let's have a look."
   ]
  },
  {
   "cell_type": "code",
   "execution_count": 81,
   "metadata": {},
   "outputs": [
    {
     "data": {
      "text/plain": [
       "208     54.0\n",
       "290     23.0\n",
       "286     15.0\n",
       "0       79.0\n",
       "401    329.0\n",
       "Name: like, dtype: float64"
      ]
     },
     "execution_count": 81,
     "metadata": {},
     "output_type": "execute_result"
    }
   ],
   "source": [
    "y_train.head()"
   ]
  },
  {
   "cell_type": "markdown",
   "metadata": {},
   "source": [
    "Yes, indeed. We didn't normalize them and we should, as they take pretty high values. Let\n",
    "s rerun the model but make sure that the output is normalized as well!"
   ]
  },
  {
   "cell_type": "markdown",
   "metadata": {},
   "source": [
    "## Normalizing the output\n",
    "\n",
    "Normalize Y as you did X by subtracting the mean and dividing by the standard deviation. Then, resplit the data into training and validation sets as we demonstrated above, and retrain a new model using your normalized X and Y data."
   ]
  },
  {
   "cell_type": "code",
   "execution_count": 82,
   "metadata": {},
   "outputs": [],
   "source": [
    "Y = np.array(Y)\n",
    "y = ss.fit_transform(Y.reshape(-1,1))"
   ]
  },
  {
   "cell_type": "code",
   "execution_count": 95,
   "metadata": {},
   "outputs": [],
   "source": [
    "data_clean = pd.concat([X, pd.DataFrame(y)], axis=1)\n",
    "np.random.seed(123)\n",
    "train, validation = train_test_split(data_clean, test_size=0.2)\n",
    "\n",
    "X_val = validation.iloc[:,0:10]\n",
    "y_val = validation.iloc[:,10]\n",
    "X_train = train.iloc[:,0:10]\n",
    "y_train = train.iloc[:,10]"
   ]
  },
  {
   "cell_type": "code",
   "execution_count": 96,
   "metadata": {},
   "outputs": [
    {
     "name": "stdout",
     "output_type": "stream",
     "text": [
      "Train on 396 samples, validate on 99 samples\n",
      "Epoch 1/100\n",
      "396/396 [==============================] - 0s 713us/step - loss: 1.3987 - mean_squared_error: 1.3987 - val_loss: 1.1758 - val_mean_squared_error: 1.1758\n",
      "Epoch 2/100\n",
      "396/396 [==============================] - 0s 76us/step - loss: 1.1264 - mean_squared_error: 1.1264 - val_loss: 1.1019 - val_mean_squared_error: 1.1019\n",
      "Epoch 3/100\n",
      "396/396 [==============================] - 0s 52us/step - loss: 1.0594 - mean_squared_error: 1.0594 - val_loss: 1.0667 - val_mean_squared_error: 1.0667\n",
      "Epoch 4/100\n",
      "396/396 [==============================] - 0s 54us/step - loss: 1.0232 - mean_squared_error: 1.0232 - val_loss: 1.0324 - val_mean_squared_error: 1.0324\n",
      "Epoch 5/100\n",
      "396/396 [==============================] - 0s 120us/step - loss: 1.0011 - mean_squared_error: 1.0011 - val_loss: 1.0210 - val_mean_squared_error: 1.0210\n",
      "Epoch 6/100\n",
      "396/396 [==============================] - 0s 72us/step - loss: 0.9889 - mean_squared_error: 0.9889 - val_loss: 1.0114 - val_mean_squared_error: 1.0114\n",
      "Epoch 7/100\n",
      "396/396 [==============================] - 0s 71us/step - loss: 0.9779 - mean_squared_error: 0.9779 - val_loss: 1.0017 - val_mean_squared_error: 1.0017\n",
      "Epoch 8/100\n",
      "396/396 [==============================] - 0s 54us/step - loss: 0.9687 - mean_squared_error: 0.9687 - val_loss: 0.9892 - val_mean_squared_error: 0.9892\n",
      "Epoch 9/100\n",
      "396/396 [==============================] - 0s 52us/step - loss: 0.9626 - mean_squared_error: 0.9626 - val_loss: 0.9813 - val_mean_squared_error: 0.9813\n",
      "Epoch 10/100\n",
      "396/396 [==============================] - 0s 59us/step - loss: 0.9567 - mean_squared_error: 0.9567 - val_loss: 0.9790 - val_mean_squared_error: 0.9790\n",
      "Epoch 11/100\n",
      "396/396 [==============================] - 0s 54us/step - loss: 0.9529 - mean_squared_error: 0.9529 - val_loss: 0.9737 - val_mean_squared_error: 0.9737\n",
      "Epoch 12/100\n",
      "396/396 [==============================] - 0s 66us/step - loss: 0.9501 - mean_squared_error: 0.9501 - val_loss: 0.9708 - val_mean_squared_error: 0.9708\n",
      "Epoch 13/100\n",
      "396/396 [==============================] - 0s 80us/step - loss: 0.9472 - mean_squared_error: 0.9472 - val_loss: 0.9714 - val_mean_squared_error: 0.9714\n",
      "Epoch 14/100\n",
      "396/396 [==============================] - 0s 50us/step - loss: 0.9448 - mean_squared_error: 0.9448 - val_loss: 0.9713 - val_mean_squared_error: 0.9713\n",
      "Epoch 15/100\n",
      "396/396 [==============================] - 0s 49us/step - loss: 0.9435 - mean_squared_error: 0.9435 - val_loss: 0.9641 - val_mean_squared_error: 0.9641\n",
      "Epoch 16/100\n",
      "396/396 [==============================] - 0s 47us/step - loss: 0.9411 - mean_squared_error: 0.9411 - val_loss: 0.9666 - val_mean_squared_error: 0.9666\n",
      "Epoch 17/100\n",
      "396/396 [==============================] - 0s 47us/step - loss: 0.9391 - mean_squared_error: 0.9391 - val_loss: 0.9641 - val_mean_squared_error: 0.9641\n",
      "Epoch 18/100\n",
      "396/396 [==============================] - 0s 50us/step - loss: 0.9358 - mean_squared_error: 0.9358 - val_loss: 0.9651 - val_mean_squared_error: 0.9651\n",
      "Epoch 19/100\n",
      "396/396 [==============================] - 0s 62us/step - loss: 0.9337 - mean_squared_error: 0.9337 - val_loss: 0.9561 - val_mean_squared_error: 0.9561\n",
      "Epoch 20/100\n",
      "396/396 [==============================] - 0s 57us/step - loss: 0.9341 - mean_squared_error: 0.9341 - val_loss: 0.9474 - val_mean_squared_error: 0.9474\n",
      "Epoch 21/100\n",
      "396/396 [==============================] - 0s 49us/step - loss: 0.9309 - mean_squared_error: 0.9309 - val_loss: 0.9512 - val_mean_squared_error: 0.9512\n",
      "Epoch 22/100\n",
      "396/396 [==============================] - 0s 85us/step - loss: 0.9281 - mean_squared_error: 0.9281 - val_loss: 0.9526 - val_mean_squared_error: 0.9526\n",
      "Epoch 23/100\n",
      "396/396 [==============================] - 0s 93us/step - loss: 0.9277 - mean_squared_error: 0.9277 - val_loss: 0.9494 - val_mean_squared_error: 0.9494\n",
      "Epoch 24/100\n",
      "396/396 [==============================] - 0s 57us/step - loss: 0.9294 - mean_squared_error: 0.9294 - val_loss: 0.9507 - val_mean_squared_error: 0.9507\n",
      "Epoch 25/100\n",
      "396/396 [==============================] - 0s 70us/step - loss: 0.9279 - mean_squared_error: 0.9279 - val_loss: 0.9545 - val_mean_squared_error: 0.9545\n",
      "Epoch 26/100\n",
      "396/396 [==============================] - 0s 79us/step - loss: 0.9232 - mean_squared_error: 0.9232 - val_loss: 0.9404 - val_mean_squared_error: 0.9404\n",
      "Epoch 27/100\n",
      "396/396 [==============================] - 0s 107us/step - loss: 0.9255 - mean_squared_error: 0.9255 - val_loss: 0.9488 - val_mean_squared_error: 0.9488\n",
      "Epoch 28/100\n",
      "396/396 [==============================] - 0s 72us/step - loss: 0.9249 - mean_squared_error: 0.9249 - val_loss: 0.9456 - val_mean_squared_error: 0.9456\n",
      "Epoch 29/100\n",
      "396/396 [==============================] - 0s 74us/step - loss: 0.9218 - mean_squared_error: 0.9218 - val_loss: 0.9549 - val_mean_squared_error: 0.9549\n",
      "Epoch 30/100\n",
      "396/396 [==============================] - 0s 52us/step - loss: 0.9210 - mean_squared_error: 0.9210 - val_loss: 0.9553 - val_mean_squared_error: 0.9553\n",
      "Epoch 31/100\n",
      "396/396 [==============================] - 0s 47us/step - loss: 0.9198 - mean_squared_error: 0.9198 - val_loss: 0.9555 - val_mean_squared_error: 0.9555\n",
      "Epoch 32/100\n",
      "396/396 [==============================] - 0s 45us/step - loss: 0.9184 - mean_squared_error: 0.9184 - val_loss: 0.9552 - val_mean_squared_error: 0.9552\n",
      "Epoch 33/100\n",
      "396/396 [==============================] - 0s 45us/step - loss: 0.9178 - mean_squared_error: 0.9178 - val_loss: 0.9560 - val_mean_squared_error: 0.9560\n",
      "Epoch 34/100\n",
      "396/396 [==============================] - 0s 70us/step - loss: 0.9172 - mean_squared_error: 0.9172 - val_loss: 0.9544 - val_mean_squared_error: 0.9544\n",
      "Epoch 35/100\n",
      "396/396 [==============================] - 0s 53us/step - loss: 0.9173 - mean_squared_error: 0.9173 - val_loss: 0.9585 - val_mean_squared_error: 0.9585\n",
      "Epoch 36/100\n",
      "396/396 [==============================] - 0s 60us/step - loss: 0.9178 - mean_squared_error: 0.9178 - val_loss: 0.9583 - val_mean_squared_error: 0.9583\n",
      "Epoch 37/100\n",
      "396/396 [==============================] - 0s 62us/step - loss: 0.9159 - mean_squared_error: 0.9159 - val_loss: 0.9581 - val_mean_squared_error: 0.9581\n",
      "Epoch 38/100\n",
      "396/396 [==============================] - 0s 80us/step - loss: 0.9150 - mean_squared_error: 0.9150 - val_loss: 0.9527 - val_mean_squared_error: 0.9527\n",
      "Epoch 39/100\n",
      "396/396 [==============================] - 0s 107us/step - loss: 0.9154 - mean_squared_error: 0.9154 - val_loss: 0.9549 - val_mean_squared_error: 0.9549\n",
      "Epoch 40/100\n",
      "396/396 [==============================] - 0s 64us/step - loss: 0.9131 - mean_squared_error: 0.9131 - val_loss: 0.9556 - val_mean_squared_error: 0.9556\n",
      "Epoch 41/100\n",
      "396/396 [==============================] - 0s 55us/step - loss: 0.9136 - mean_squared_error: 0.9136 - val_loss: 0.9564 - val_mean_squared_error: 0.9564\n",
      "Epoch 42/100\n",
      "396/396 [==============================] - 0s 42us/step - loss: 0.9134 - mean_squared_error: 0.9134 - val_loss: 0.9520 - val_mean_squared_error: 0.9520\n",
      "Epoch 43/100\n",
      "396/396 [==============================] - 0s 44us/step - loss: 0.9131 - mean_squared_error: 0.9131 - val_loss: 0.9513 - val_mean_squared_error: 0.9513\n",
      "Epoch 44/100\n",
      "396/396 [==============================] - 0s 43us/step - loss: 0.9134 - mean_squared_error: 0.9134 - val_loss: 0.9432 - val_mean_squared_error: 0.9432\n",
      "Epoch 45/100\n",
      "396/396 [==============================] - 0s 47us/step - loss: 0.9118 - mean_squared_error: 0.9118 - val_loss: 0.9488 - val_mean_squared_error: 0.9488\n",
      "Epoch 46/100\n",
      "396/396 [==============================] - 0s 44us/step - loss: 0.9096 - mean_squared_error: 0.9096 - val_loss: 0.9538 - val_mean_squared_error: 0.9538\n",
      "Epoch 47/100\n",
      "396/396 [==============================] - 0s 55us/step - loss: 0.9098 - mean_squared_error: 0.9098 - val_loss: 0.9508 - val_mean_squared_error: 0.9508\n",
      "Epoch 48/100\n",
      "396/396 [==============================] - 0s 63us/step - loss: 0.9120 - mean_squared_error: 0.9120 - val_loss: 0.9518 - val_mean_squared_error: 0.9518\n",
      "Epoch 49/100\n",
      "396/396 [==============================] - 0s 43us/step - loss: 0.9102 - mean_squared_error: 0.9102 - val_loss: 0.9489 - val_mean_squared_error: 0.9489\n",
      "Epoch 50/100\n"
     ]
    },
    {
     "name": "stdout",
     "output_type": "stream",
     "text": [
      "396/396 [==============================] - 0s 43us/step - loss: 0.9103 - mean_squared_error: 0.9103 - val_loss: 0.9518 - val_mean_squared_error: 0.9518\n",
      "Epoch 51/100\n",
      "396/396 [==============================] - 0s 46us/step - loss: 0.9102 - mean_squared_error: 0.9102 - val_loss: 0.9450 - val_mean_squared_error: 0.9450\n",
      "Epoch 52/100\n",
      "396/396 [==============================] - 0s 73us/step - loss: 0.9070 - mean_squared_error: 0.9070 - val_loss: 0.9507 - val_mean_squared_error: 0.9507\n",
      "Epoch 53/100\n",
      "396/396 [==============================] - 0s 96us/step - loss: 0.9071 - mean_squared_error: 0.9071 - val_loss: 0.9505 - val_mean_squared_error: 0.9505\n",
      "Epoch 54/100\n",
      "396/396 [==============================] - 0s 94us/step - loss: 0.9078 - mean_squared_error: 0.9078 - val_loss: 0.9537 - val_mean_squared_error: 0.9537\n",
      "Epoch 55/100\n",
      "396/396 [==============================] - 0s 111us/step - loss: 0.9078 - mean_squared_error: 0.9078 - val_loss: 0.9554 - val_mean_squared_error: 0.9554\n",
      "Epoch 56/100\n",
      "396/396 [==============================] - 0s 66us/step - loss: 0.9075 - mean_squared_error: 0.9075 - val_loss: 0.9503 - val_mean_squared_error: 0.9503\n",
      "Epoch 57/100\n",
      "396/396 [==============================] - 0s 129us/step - loss: 0.9065 - mean_squared_error: 0.9065 - val_loss: 0.9531 - val_mean_squared_error: 0.9531\n",
      "Epoch 58/100\n",
      "396/396 [==============================] - 0s 62us/step - loss: 0.9056 - mean_squared_error: 0.9056 - val_loss: 0.9518 - val_mean_squared_error: 0.9518\n",
      "Epoch 59/100\n",
      "396/396 [==============================] - 0s 66us/step - loss: 0.9043 - mean_squared_error: 0.9043 - val_loss: 0.9442 - val_mean_squared_error: 0.9442\n",
      "Epoch 60/100\n",
      "396/396 [==============================] - 0s 49us/step - loss: 0.9053 - mean_squared_error: 0.9053 - val_loss: 0.9473 - val_mean_squared_error: 0.9473\n",
      "Epoch 61/100\n",
      "396/396 [==============================] - 0s 42us/step - loss: 0.9038 - mean_squared_error: 0.9038 - val_loss: 0.9503 - val_mean_squared_error: 0.9503\n",
      "Epoch 62/100\n",
      "396/396 [==============================] - 0s 40us/step - loss: 0.9051 - mean_squared_error: 0.9051 - val_loss: 0.9468 - val_mean_squared_error: 0.9468\n",
      "Epoch 63/100\n",
      "396/396 [==============================] - 0s 65us/step - loss: 0.9022 - mean_squared_error: 0.9022 - val_loss: 0.9477 - val_mean_squared_error: 0.9477\n",
      "Epoch 64/100\n",
      "396/396 [==============================] - 0s 126us/step - loss: 0.9036 - mean_squared_error: 0.9036 - val_loss: 0.9427 - val_mean_squared_error: 0.9427\n",
      "Epoch 65/100\n",
      "396/396 [==============================] - 0s 126us/step - loss: 0.9080 - mean_squared_error: 0.9080 - val_loss: 0.9432 - val_mean_squared_error: 0.9432\n",
      "Epoch 66/100\n",
      "396/396 [==============================] - 0s 104us/step - loss: 0.9025 - mean_squared_error: 0.9025 - val_loss: 0.9499 - val_mean_squared_error: 0.9499\n",
      "Epoch 67/100\n",
      "396/396 [==============================] - 0s 84us/step - loss: 0.9023 - mean_squared_error: 0.9023 - val_loss: 0.9504 - val_mean_squared_error: 0.9504\n",
      "Epoch 68/100\n",
      "396/396 [==============================] - 0s 73us/step - loss: 0.9030 - mean_squared_error: 0.9030 - val_loss: 0.9532 - val_mean_squared_error: 0.9532\n",
      "Epoch 69/100\n",
      "396/396 [==============================] - 0s 53us/step - loss: 0.9028 - mean_squared_error: 0.9028 - val_loss: 0.9532 - val_mean_squared_error: 0.9532\n",
      "Epoch 70/100\n",
      "396/396 [==============================] - 0s 45us/step - loss: 0.8994 - mean_squared_error: 0.8994 - val_loss: 0.9472 - val_mean_squared_error: 0.9472\n",
      "Epoch 71/100\n",
      "396/396 [==============================] - 0s 67us/step - loss: 0.9015 - mean_squared_error: 0.9015 - val_loss: 0.9498 - val_mean_squared_error: 0.9498\n",
      "Epoch 72/100\n",
      "396/396 [==============================] - 0s 59us/step - loss: 0.9011 - mean_squared_error: 0.9011 - val_loss: 0.9500 - val_mean_squared_error: 0.9500\n",
      "Epoch 73/100\n",
      "396/396 [==============================] - 0s 68us/step - loss: 0.9015 - mean_squared_error: 0.9015 - val_loss: 0.9473 - val_mean_squared_error: 0.9473\n",
      "Epoch 74/100\n",
      "396/396 [==============================] - 0s 66us/step - loss: 0.9083 - mean_squared_error: 0.9083 - val_loss: 0.9527 - val_mean_squared_error: 0.9527\n",
      "Epoch 75/100\n",
      "396/396 [==============================] - 0s 53us/step - loss: 0.8999 - mean_squared_error: 0.8999 - val_loss: 0.9474 - val_mean_squared_error: 0.9474\n",
      "Epoch 76/100\n",
      "396/396 [==============================] - 0s 54us/step - loss: 0.8976 - mean_squared_error: 0.8976 - val_loss: 0.9460 - val_mean_squared_error: 0.9460\n",
      "Epoch 77/100\n",
      "396/396 [==============================] - 0s 62us/step - loss: 0.8982 - mean_squared_error: 0.8982 - val_loss: 0.9478 - val_mean_squared_error: 0.9478\n",
      "Epoch 78/100\n",
      "396/396 [==============================] - 0s 57us/step - loss: 0.8965 - mean_squared_error: 0.8965 - val_loss: 0.9498 - val_mean_squared_error: 0.9498\n",
      "Epoch 79/100\n",
      "396/396 [==============================] - 0s 54us/step - loss: 0.8983 - mean_squared_error: 0.8983 - val_loss: 0.9461 - val_mean_squared_error: 0.9461\n",
      "Epoch 80/100\n",
      "396/396 [==============================] - 0s 95us/step - loss: 0.8975 - mean_squared_error: 0.8975 - val_loss: 0.9475 - val_mean_squared_error: 0.9475\n",
      "Epoch 81/100\n",
      "396/396 [==============================] - 0s 47us/step - loss: 0.8964 - mean_squared_error: 0.8964 - val_loss: 0.9450 - val_mean_squared_error: 0.9450\n",
      "Epoch 82/100\n",
      "396/396 [==============================] - 0s 44us/step - loss: 0.8964 - mean_squared_error: 0.8964 - val_loss: 0.9512 - val_mean_squared_error: 0.9512\n",
      "Epoch 83/100\n",
      "396/396 [==============================] - 0s 43us/step - loss: 0.8976 - mean_squared_error: 0.8976 - val_loss: 0.9446 - val_mean_squared_error: 0.9446\n",
      "Epoch 84/100\n",
      "396/396 [==============================] - 0s 43us/step - loss: 0.8952 - mean_squared_error: 0.8952 - val_loss: 0.9451 - val_mean_squared_error: 0.9451\n",
      "Epoch 85/100\n",
      "396/396 [==============================] - 0s 44us/step - loss: 0.9013 - mean_squared_error: 0.9013 - val_loss: 0.9429 - val_mean_squared_error: 0.9429\n",
      "Epoch 86/100\n",
      "396/396 [==============================] - 0s 48us/step - loss: 0.8972 - mean_squared_error: 0.8972 - val_loss: 0.9472 - val_mean_squared_error: 0.9472\n",
      "Epoch 87/100\n",
      "396/396 [==============================] - 0s 43us/step - loss: 0.8958 - mean_squared_error: 0.8958 - val_loss: 0.9424 - val_mean_squared_error: 0.9424\n",
      "Epoch 88/100\n",
      "396/396 [==============================] - 0s 59us/step - loss: 0.8998 - mean_squared_error: 0.8998 - val_loss: 0.9466 - val_mean_squared_error: 0.9466\n",
      "Epoch 89/100\n",
      "396/396 [==============================] - 0s 58us/step - loss: 0.8968 - mean_squared_error: 0.8968 - val_loss: 0.9394 - val_mean_squared_error: 0.9394\n",
      "Epoch 90/100\n",
      "396/396 [==============================] - 0s 53us/step - loss: 0.8982 - mean_squared_error: 0.8982 - val_loss: 0.9463 - val_mean_squared_error: 0.9463\n",
      "Epoch 91/100\n",
      "396/396 [==============================] - 0s 107us/step - loss: 0.8931 - mean_squared_error: 0.8931 - val_loss: 0.9424 - val_mean_squared_error: 0.9424\n",
      "Epoch 92/100\n",
      "396/396 [==============================] - 0s 67us/step - loss: 0.8986 - mean_squared_error: 0.8986 - val_loss: 0.9454 - val_mean_squared_error: 0.9454\n",
      "Epoch 93/100\n",
      "396/396 [==============================] - 0s 62us/step - loss: 0.8967 - mean_squared_error: 0.8967 - val_loss: 0.9506 - val_mean_squared_error: 0.9506\n",
      "Epoch 94/100\n",
      "396/396 [==============================] - 0s 45us/step - loss: 0.8955 - mean_squared_error: 0.8955 - val_loss: 0.9440 - val_mean_squared_error: 0.9440\n",
      "Epoch 95/100\n",
      "396/396 [==============================] - 0s 42us/step - loss: 0.8940 - mean_squared_error: 0.8940 - val_loss: 0.9443 - val_mean_squared_error: 0.9443\n",
      "Epoch 96/100\n",
      "396/396 [==============================] - 0s 42us/step - loss: 0.8927 - mean_squared_error: 0.8927 - val_loss: 0.9489 - val_mean_squared_error: 0.9489\n",
      "Epoch 97/100\n",
      "396/396 [==============================] - 0s 43us/step - loss: 0.8915 - mean_squared_error: 0.8915 - val_loss: 0.9513 - val_mean_squared_error: 0.9513\n",
      "Epoch 98/100\n",
      "396/396 [==============================] - 0s 42us/step - loss: 0.8948 - mean_squared_error: 0.8948 - val_loss: 0.9486 - val_mean_squared_error: 0.9486\n",
      "Epoch 99/100\n",
      "396/396 [==============================] - 0s 61us/step - loss: 0.8942 - mean_squared_error: 0.8942 - val_loss: 0.9482 - val_mean_squared_error: 0.9482\n"
     ]
    },
    {
     "name": "stdout",
     "output_type": "stream",
     "text": [
      "Epoch 100/100\n",
      "396/396 [==============================] - 0s 66us/step - loss: 0.8928 - mean_squared_error: 0.8928 - val_loss: 0.9457 - val_mean_squared_error: 0.9457\n"
     ]
    }
   ],
   "source": [
    "#Your code here; rebuild a simple model using a relu layer followed by a linear layer. \n",
    "#(See our code snippet above!)\n",
    "\n",
    "model = Sequential()\n",
    "model.add(layers.Dense(8, input_dim=10, activation='relu'))\n",
    "model.add(layers.Dense(1, activation='linear'))\n",
    "model.compile(optimizer='sgd', loss='mse', metrics=['mse'])\n",
    "hist=model.fit(X_train, y_train, batch_size=32, epochs=100, validation_data=(X_val, y_val))"
   ]
  },
  {
   "cell_type": "markdown",
   "metadata": {},
   "source": [
    "Finally, let's recheck our loss function. Not only should it be populated with numerical data as opposed to null values, but we also should expect to see the loss function decreasing with successive epochs, demonstrating optimization!"
   ]
  },
  {
   "cell_type": "code",
   "execution_count": 97,
   "metadata": {},
   "outputs": [
    {
     "data": {
      "text/plain": [
       "[1.3987290208989924,\n",
       " 1.1264215214083892,\n",
       " 1.0593779738804308,\n",
       " 1.0232075802003495,\n",
       " 1.0010548839063356,\n",
       " 0.9889441420032521,\n",
       " 0.9779384768370426,\n",
       " 0.9686586110278813,\n",
       " 0.9625816005046921,\n",
       " 0.9566941145393584]"
      ]
     },
     "execution_count": 97,
     "metadata": {},
     "output_type": "execute_result"
    }
   ],
   "source": [
    "hist.history['loss'][:10]"
   ]
  },
  {
   "cell_type": "markdown",
   "metadata": {},
   "source": [
    "Great! We have a converged model. With that, let's investigate how well the model performed with our good old friend, mean squarred error."
   ]
  },
  {
   "cell_type": "code",
   "execution_count": 98,
   "metadata": {},
   "outputs": [
    {
     "name": "stdout",
     "output_type": "stream",
     "text": [
      "MSE_train: 0.886415367622916\n",
      "MSE_val: 0.945747052113066\n"
     ]
    }
   ],
   "source": [
    "pred_train = model.predict(X_train).reshape(-1)\n",
    "pred_val = model.predict(X_val).reshape(-1)  \n",
    "\n",
    "MSE_train = np.mean((pred_train-y_train)**2)\n",
    "MSE_val = np.mean((pred_val-y_val)**2)\n",
    "\n",
    "print(\"MSE_train:\", MSE_train)\n",
    "print(\"MSE_val:\", MSE_val)"
   ]
  },
  {
   "cell_type": "markdown",
   "metadata": {},
   "source": [
    "## Using Weight Initializers"
   ]
  },
  {
   "cell_type": "markdown",
   "metadata": {},
   "source": [
    "##  He Initialization"
   ]
  },
  {
   "cell_type": "markdown",
   "metadata": {},
   "source": [
    "Let's try and use a weight initializer. In the lecture, we've seen the He normalizer, which initializes the weight vector to have an average 0 and a variance of 2/n, with $n$ the number of features feeding into a layer."
   ]
  },
  {
   "cell_type": "code",
   "execution_count": 101,
   "metadata": {},
   "outputs": [],
   "source": [
    "np.random.seed(123)\n",
    "model = Sequential()\n",
    "model.add(layers.Dense(8, input_dim=10, kernel_initializer= \"he_normal\",\n",
    "                activation='relu'))\n",
    "model.add(layers.Dense(1, activation = 'linear'))\n",
    "\n",
    "model.compile(optimizer= \"sgd\" ,loss='mse',metrics=['mse'])\n",
    "hist = model.fit(X_train, y_train, batch_size=32, \n",
    "                 epochs=100, validation_data = (X_val, y_val),verbose=0)"
   ]
  },
  {
   "cell_type": "code",
   "execution_count": 103,
   "metadata": {},
   "outputs": [],
   "source": [
    "pred_train = model.predict(X_train).reshape(-1)\n",
    "pred_val = model.predict(X_val).reshape(-1)\n",
    "\n",
    "MSE_train = np.mean((pred_train-y_train)**2)\n",
    "MSE_val = np.mean((pred_val-y_val)**2)"
   ]
  },
  {
   "cell_type": "code",
   "execution_count": 104,
   "metadata": {},
   "outputs": [
    {
     "name": "stdout",
     "output_type": "stream",
     "text": [
      "0.9410365914887343\n",
      "0.9287018846671385\n"
     ]
    }
   ],
   "source": [
    "print(MSE_train)\n",
    "print(MSE_val)"
   ]
  },
  {
   "cell_type": "markdown",
   "metadata": {},
   "source": [
    "The initializer does not really help us to decrease the MSE. We know that initializers can be particularly helpful in deeper networks, and our network isn't very deep. What if we use the `Lecun` initializer with a `tanh` activation?"
   ]
  },
  {
   "cell_type": "markdown",
   "metadata": {},
   "source": [
    "## Lecun Initialization"
   ]
  },
  {
   "cell_type": "code",
   "execution_count": 105,
   "metadata": {},
   "outputs": [],
   "source": [
    "np.random.seed(123)\n",
    "model = Sequential()\n",
    "model.add(layers.Dense(8, input_dim=10, \n",
    "                kernel_initializer= \"lecun_normal\", activation='tanh'))\n",
    "model.add(layers.Dense(1, activation = 'linear'))\n",
    "\n",
    "model.compile(optimizer= \"sgd\" ,loss='mse',metrics=['mse'])\n",
    "hist = model.fit(X_train, y_train, batch_size=32, \n",
    "                 epochs=100, validation_data = (X_val, y_val), verbose=0)"
   ]
  },
  {
   "cell_type": "code",
   "execution_count": 107,
   "metadata": {},
   "outputs": [],
   "source": [
    "pred_train = model.predict(X_train).reshape(-1)\n",
    "pred_val = model.predict(X_val).reshape(-1)\n",
    "\n",
    "MSE_train = np.mean((pred_train-y_train)**2)\n",
    "MSE_val = np.mean((pred_val-y_val)**2)"
   ]
  },
  {
   "cell_type": "code",
   "execution_count": 108,
   "metadata": {},
   "outputs": [
    {
     "name": "stdout",
     "output_type": "stream",
     "text": [
      "0.92798852558739\n",
      "0.9999079561945043\n"
     ]
    }
   ],
   "source": [
    "print(MSE_train)\n",
    "print(MSE_val)"
   ]
  },
  {
   "cell_type": "markdown",
   "metadata": {},
   "source": [
    "Not much of a difference, but a useful note to consider when tuning your network. Next, let's investigate the impace of various optimization algorithms."
   ]
  },
  {
   "cell_type": "markdown",
   "metadata": {},
   "source": [
    "## RMSprop"
   ]
  },
  {
   "cell_type": "code",
   "execution_count": 109,
   "metadata": {},
   "outputs": [],
   "source": [
    "np.random.seed(123)\n",
    "model = Sequential()\n",
    "model.add(layers.Dense(8, input_dim=10, activation='relu'))\n",
    "model.add(layers.Dense(1, activation = 'linear'))\n",
    "\n",
    "model.compile(optimizer= \"rmsprop\" ,loss='mse',metrics=['mse'])\n",
    "hist = model.fit(X_train, y_train, batch_size=32, \n",
    "                 epochs=100, validation_data = (X_val, y_val), verbose = 0)"
   ]
  },
  {
   "cell_type": "code",
   "execution_count": 110,
   "metadata": {},
   "outputs": [],
   "source": [
    "pred_train = model.predict(X_train).reshape(-1)\n",
    "pred_val = model.predict(X_val).reshape(-1)\n",
    "\n",
    "MSE_train = np.mean((pred_train-y_train)**2)\n",
    "MSE_val = np.mean((pred_val-y_val)**2)"
   ]
  },
  {
   "cell_type": "code",
   "execution_count": 111,
   "metadata": {},
   "outputs": [
    {
     "name": "stdout",
     "output_type": "stream",
     "text": [
      "0.906794979010588\n",
      "0.9116707523804706\n"
     ]
    }
   ],
   "source": [
    "print(MSE_train)\n",
    "print(MSE_val)"
   ]
  },
  {
   "cell_type": "markdown",
   "metadata": {},
   "source": [
    "## Adam"
   ]
  },
  {
   "cell_type": "code",
   "execution_count": 112,
   "metadata": {},
   "outputs": [],
   "source": [
    "np.random.seed(123)\n",
    "model = Sequential()\n",
    "model.add(layers.Dense(8, input_dim=10, activation='relu'))\n",
    "model.add(layers.Dense(1, activation = 'linear'))\n",
    "\n",
    "model.compile(optimizer= \"Adam\" ,loss='mse',metrics=['mse'])\n",
    "hist = model.fit(X_train, y_train, batch_size=32, \n",
    "                 epochs=100, validation_data = (X_val, y_val), verbose = 0)"
   ]
  },
  {
   "cell_type": "code",
   "execution_count": 113,
   "metadata": {},
   "outputs": [],
   "source": [
    "pred_train = model.predict(X_train).reshape(-1)\n",
    "pred_val = model.predict(X_val).reshape(-1)\n",
    "\n",
    "MSE_train = np.mean((pred_train-y_train)**2)\n",
    "MSE_val = np.mean((pred_val-y_val)**2)"
   ]
  },
  {
   "cell_type": "code",
   "execution_count": 114,
   "metadata": {},
   "outputs": [
    {
     "name": "stdout",
     "output_type": "stream",
     "text": [
      "0.9090509130489668\n",
      "0.9102608891537122\n"
     ]
    }
   ],
   "source": [
    "print(MSE_train)\n",
    "print(MSE_val)"
   ]
  },
  {
   "cell_type": "markdown",
   "metadata": {},
   "source": [
    "## Learning Rate Decay with Momentum\n"
   ]
  },
  {
   "cell_type": "code",
   "execution_count": 25,
   "metadata": {},
   "outputs": [],
   "source": [
    "np.random.seed(123)\n",
    "sgd = optimizers.SGD(lr=0.03, decay=0.0001, momentum=0.9)\n",
    "model = Sequential()\n",
    "model.add(layers.Dense(8, input_dim=10, activation='relu'))\n",
    "model.add(layers.Dense(1, activation = 'linear'))\n",
    "\n",
    "model.compile(optimizer= sgd ,loss='mse',metrics=['mse'])\n",
    "hist = model.fit(X_train, y_train, batch_size=32, \n",
    "                 epochs=100, validation_data = (X_val, y_val), verbose = 0)"
   ]
  },
  {
   "cell_type": "code",
   "execution_count": 26,
   "metadata": {},
   "outputs": [],
   "source": [
    "pred_train = model.predict(X_train).reshape(-1)\n",
    "pred_val = model.predict(X_val).reshape(-1)\n",
    "\n",
    "MSE_train = np.mean((pred_train-y_train)**2)\n",
    "MSE_val = np.mean((pred_val-y_val)**2)"
   ]
  },
  {
   "cell_type": "code",
   "execution_count": 27,
   "metadata": {},
   "outputs": [
    {
     "name": "stdout",
     "output_type": "stream",
     "text": [
      "0.8188327426055082\n",
      "0.9218409795298302\n"
     ]
    }
   ],
   "source": [
    "print(MSE_train)\n",
    "print(MSE_val)"
   ]
  },
  {
   "cell_type": "markdown",
   "metadata": {},
   "source": [
    "## Additional Resources\n",
    "* https://github.com/susanli2016/Machine-Learning-with-Python/blob/master/Consumer_complaints.ipynb  \n",
    "\n",
    "* https://catalog.data.gov/dataset/consumer-complaint-database  \n",
    "\n",
    "* https://machinelearningmastery.com/dropout-regularization-deep-learning-models-keras/  \n",
    "\n",
    "* https://machinelearningmastery.com/grid-search-hyperparameters-deep-learning-models-python-keras/  \n",
    "\n",
    "* https://machinelearningmastery.com/regression-tutorial-keras-deep-learning-library-python/  \n",
    "\n",
    "* https://stackoverflow.com/questions/37232782/nan-loss-when-training-regression-network  \n",
    "\n",
    "* https://machinelearningmastery.com/grid-search-hyperparameters-deep-learning-models-python-keras/\n"
   ]
  },
  {
   "cell_type": "markdown",
   "metadata": {},
   "source": [
    "## Summary  \n",
    "\n",
    "In this lab, we began to practice some of the concepts regarding normalization and optimization for neural networks. In the final lab for this section, you'll independently practice these concepts on your own in order to tune a model to predict individuals payments to loans."
   ]
  }
 ],
 "metadata": {
  "kernelspec": {
   "display_name": "Python 3",
   "language": "python",
   "name": "python3"
  },
  "language_info": {
   "codemirror_mode": {
    "name": "ipython",
    "version": 3
   },
   "file_extension": ".py",
   "mimetype": "text/x-python",
   "name": "python",
   "nbconvert_exporter": "python",
   "pygments_lexer": "ipython3",
   "version": "3.6.6"
  }
 },
 "nbformat": 4,
 "nbformat_minor": 2
}
